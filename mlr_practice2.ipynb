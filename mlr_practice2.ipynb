{
 "cells": [
  {
   "cell_type": "markdown",
   "id": "1fbb42e6-a7de-4d61-8a0d-8353c030068c",
   "metadata": {},
   "source": [
    "# Çoklu Doğrusal Regresyon"
   ]
  },
  {
   "cell_type": "markdown",
   "id": "60cb0091-9a2d-4d0a-91ad-410edbc33931",
   "metadata": {},
   "source": [
    "### Bir şirket, ürünlerinin müşteriler tarafından nasıl değerlendirildiğini anlamak istiyor. Bu nedenle, müşterilerine bir anket gönderdiler ve ürünlerin kalitesi, fiyatı, reklamı ve müşteri hizmetleri gibi faktörlerle ilgili sorular sordular. Ankete 1000 kişi yanıt verdi.\n",
    "\n",
    "\n",
    "#### Müşteri memnuniyeti: Bağımlı değişken. 1-10 arası bir değer alır.\n",
    "#### Ürün Kalitesi: Bağımsız değişken, 1-10 arası bir değer alır.\n",
    "#### Ürün fiyatı: Bağımsız değişken, 1-10 arası bir değer alır.\n",
    "#### Reklam harcamaları: Bağımsız değişken, 1-10 arası bir değer alır.\n",
    "#### Müşteri hizmetleri: Bağımsız değişken, 1-10 arası bir değer alır."
   ]
  },
  {
   "cell_type": "code",
   "execution_count": 30,
   "id": "b763b6f9-0a47-41e4-a5ab-0e43522c5b5d",
   "metadata": {},
   "outputs": [],
   "source": [
    "import numpy as np\n",
    "import pandas as pd\n",
    "import seaborn as sns\n",
    "import matplotlib.pyplot as plt\n",
    "from sklearn.linear_model import LinearRegression\n",
    "from sklearn.model_selection import train_test_split, GridSearchCV, cross_val_score\n",
    "from sklearn.metrics import r2_score, mean_squared_error\n",
    "import statsmodels.api as sm"
   ]
  },
  {
   "cell_type": "code",
   "execution_count": 3,
   "id": "8ef802de-e048-4c41-8028-322018bf38b5",
   "metadata": {},
   "outputs": [
    {
     "data": {
      "text/html": [
       "<div>\n",
       "<style scoped>\n",
       "    .dataframe tbody tr th:only-of-type {\n",
       "        vertical-align: middle;\n",
       "    }\n",
       "\n",
       "    .dataframe tbody tr th {\n",
       "        vertical-align: top;\n",
       "    }\n",
       "\n",
       "    .dataframe thead th {\n",
       "        text-align: right;\n",
       "    }\n",
       "</style>\n",
       "<table border=\"1\" class=\"dataframe\">\n",
       "  <thead>\n",
       "    <tr style=\"text-align: right;\">\n",
       "      <th></th>\n",
       "      <th>urun_kalitesi</th>\n",
       "      <th>urun_fiyati</th>\n",
       "      <th>reklam_harcamalari</th>\n",
       "      <th>musteri_hizmetleri</th>\n",
       "      <th>musteri_memnuniyeti</th>\n",
       "    </tr>\n",
       "  </thead>\n",
       "  <tbody>\n",
       "    <tr>\n",
       "      <th>0</th>\n",
       "      <td>7</td>\n",
       "      <td>1</td>\n",
       "      <td>10</td>\n",
       "      <td>8</td>\n",
       "      <td>5.746376</td>\n",
       "    </tr>\n",
       "    <tr>\n",
       "      <th>1</th>\n",
       "      <td>4</td>\n",
       "      <td>8</td>\n",
       "      <td>6</td>\n",
       "      <td>9</td>\n",
       "      <td>6.513624</td>\n",
       "    </tr>\n",
       "    <tr>\n",
       "      <th>2</th>\n",
       "      <td>8</td>\n",
       "      <td>4</td>\n",
       "      <td>7</td>\n",
       "      <td>6</td>\n",
       "      <td>6.103564</td>\n",
       "    </tr>\n",
       "    <tr>\n",
       "      <th>3</th>\n",
       "      <td>5</td>\n",
       "      <td>4</td>\n",
       "      <td>9</td>\n",
       "      <td>5</td>\n",
       "      <td>7.396628</td>\n",
       "    </tr>\n",
       "    <tr>\n",
       "      <th>4</th>\n",
       "      <td>7</td>\n",
       "      <td>5</td>\n",
       "      <td>1</td>\n",
       "      <td>6</td>\n",
       "      <td>6.099034</td>\n",
       "    </tr>\n",
       "  </tbody>\n",
       "</table>\n",
       "</div>"
      ],
      "text/plain": [
       "   urun_kalitesi  urun_fiyati  reklam_harcamalari  musteri_hizmetleri  \\\n",
       "0              7            1                  10                   8   \n",
       "1              4            8                   6                   9   \n",
       "2              8            4                   7                   6   \n",
       "3              5            4                   9                   5   \n",
       "4              7            5                   1                   6   \n",
       "\n",
       "   musteri_memnuniyeti  \n",
       "0             5.746376  \n",
       "1             6.513624  \n",
       "2             6.103564  \n",
       "3             7.396628  \n",
       "4             6.099034  "
      ]
     },
     "execution_count": 3,
     "metadata": {},
     "output_type": "execute_result"
    }
   ],
   "source": [
    "# veri setini oluşturalım.\n",
    "\n",
    "np.random.seed(42)\n",
    "data = pd.DataFrame({\n",
    "    'urun_kalitesi':np.random.randint(1, 11, size=1000),\n",
    "    'urun_fiyati': np.random.randint(1, 11, size=1000),\n",
    "    'reklam_harcamalari': np.random.randint(1, 11, size=1000),\n",
    "    'musteri_hizmetleri': np.random.randint(1, 11, size=1000)\n",
    "})\n",
    "\n",
    "# bağımlı değişkeni bağımsız değişkenler üzerinden hesaplayalım.\n",
    "\n",
    "data['musteri_memnuniyeti'] = (0.3 * data['urun_kalitesi'] +\n",
    "                               0.2 * data['urun_fiyati'] +\n",
    "                               0.3 * data['reklam_harcamalari'] +\n",
    "                               0.2 * data['musteri_hizmetleri'] +\n",
    "                               np.random.normal(scale=1, size=1000))\n",
    "\n",
    "data.head()"
   ]
  },
  {
   "cell_type": "markdown",
   "id": "d585840f-c0d8-4bf9-9fd2-da472be8c50d",
   "metadata": {},
   "source": [
    "# Veri Analizi - Ön İşleme"
   ]
  },
  {
   "cell_type": "code",
   "execution_count": 5,
   "id": "a852397a-9147-495c-a6be-4eeafac8e066",
   "metadata": {},
   "outputs": [
    {
     "data": {
      "text/html": [
       "<div>\n",
       "<style scoped>\n",
       "    .dataframe tbody tr th:only-of-type {\n",
       "        vertical-align: middle;\n",
       "    }\n",
       "\n",
       "    .dataframe tbody tr th {\n",
       "        vertical-align: top;\n",
       "    }\n",
       "\n",
       "    .dataframe thead th {\n",
       "        text-align: right;\n",
       "    }\n",
       "</style>\n",
       "<table border=\"1\" class=\"dataframe\">\n",
       "  <thead>\n",
       "    <tr style=\"text-align: right;\">\n",
       "      <th></th>\n",
       "      <th>count</th>\n",
       "      <th>mean</th>\n",
       "      <th>std</th>\n",
       "      <th>min</th>\n",
       "      <th>25%</th>\n",
       "      <th>50%</th>\n",
       "      <th>75%</th>\n",
       "      <th>max</th>\n",
       "    </tr>\n",
       "  </thead>\n",
       "  <tbody>\n",
       "    <tr>\n",
       "      <th>urun_kalitesi</th>\n",
       "      <td>1000.0</td>\n",
       "      <td>5.448000</td>\n",
       "      <td>2.912005</td>\n",
       "      <td>1.000000</td>\n",
       "      <td>3.000000</td>\n",
       "      <td>5.000000</td>\n",
       "      <td>8.000000</td>\n",
       "      <td>10.000000</td>\n",
       "    </tr>\n",
       "    <tr>\n",
       "      <th>urun_fiyati</th>\n",
       "      <td>1000.0</td>\n",
       "      <td>5.470000</td>\n",
       "      <td>2.920896</td>\n",
       "      <td>1.000000</td>\n",
       "      <td>3.000000</td>\n",
       "      <td>5.000000</td>\n",
       "      <td>8.000000</td>\n",
       "      <td>10.000000</td>\n",
       "    </tr>\n",
       "    <tr>\n",
       "      <th>reklam_harcamalari</th>\n",
       "      <td>1000.0</td>\n",
       "      <td>5.459000</td>\n",
       "      <td>2.811089</td>\n",
       "      <td>1.000000</td>\n",
       "      <td>3.000000</td>\n",
       "      <td>5.000000</td>\n",
       "      <td>8.000000</td>\n",
       "      <td>10.000000</td>\n",
       "    </tr>\n",
       "    <tr>\n",
       "      <th>musteri_hizmetleri</th>\n",
       "      <td>1000.0</td>\n",
       "      <td>5.412000</td>\n",
       "      <td>2.873763</td>\n",
       "      <td>1.000000</td>\n",
       "      <td>3.000000</td>\n",
       "      <td>5.000000</td>\n",
       "      <td>8.000000</td>\n",
       "      <td>10.000000</td>\n",
       "    </tr>\n",
       "    <tr>\n",
       "      <th>musteri_memnuniyeti</th>\n",
       "      <td>1000.0</td>\n",
       "      <td>5.454358</td>\n",
       "      <td>1.761582</td>\n",
       "      <td>-0.173882</td>\n",
       "      <td>4.312557</td>\n",
       "      <td>5.426015</td>\n",
       "      <td>6.690385</td>\n",
       "      <td>10.921906</td>\n",
       "    </tr>\n",
       "  </tbody>\n",
       "</table>\n",
       "</div>"
      ],
      "text/plain": [
       "                      count      mean       std       min       25%       50%  \\\n",
       "urun_kalitesi        1000.0  5.448000  2.912005  1.000000  3.000000  5.000000   \n",
       "urun_fiyati          1000.0  5.470000  2.920896  1.000000  3.000000  5.000000   \n",
       "reklam_harcamalari   1000.0  5.459000  2.811089  1.000000  3.000000  5.000000   \n",
       "musteri_hizmetleri   1000.0  5.412000  2.873763  1.000000  3.000000  5.000000   \n",
       "musteri_memnuniyeti  1000.0  5.454358  1.761582 -0.173882  4.312557  5.426015   \n",
       "\n",
       "                          75%        max  \n",
       "urun_kalitesi        8.000000  10.000000  \n",
       "urun_fiyati          8.000000  10.000000  \n",
       "reklam_harcamalari   8.000000  10.000000  \n",
       "musteri_hizmetleri   8.000000  10.000000  \n",
       "musteri_memnuniyeti  6.690385  10.921906  "
      ]
     },
     "execution_count": 5,
     "metadata": {},
     "output_type": "execute_result"
    }
   ],
   "source": [
    "data.describe().T"
   ]
  },
  {
   "cell_type": "code",
   "execution_count": 6,
   "id": "b017f9d6-94ba-4a3b-9571-d638e2ae7dee",
   "metadata": {},
   "outputs": [
    {
     "name": "stdout",
     "output_type": "stream",
     "text": [
      "<class 'pandas.core.frame.DataFrame'>\n",
      "RangeIndex: 1000 entries, 0 to 999\n",
      "Data columns (total 5 columns):\n",
      " #   Column               Non-Null Count  Dtype  \n",
      "---  ------               --------------  -----  \n",
      " 0   urun_kalitesi        1000 non-null   int32  \n",
      " 1   urun_fiyati          1000 non-null   int32  \n",
      " 2   reklam_harcamalari   1000 non-null   int32  \n",
      " 3   musteri_hizmetleri   1000 non-null   int32  \n",
      " 4   musteri_memnuniyeti  1000 non-null   float64\n",
      "dtypes: float64(1), int32(4)\n",
      "memory usage: 23.6 KB\n"
     ]
    }
   ],
   "source": [
    "data.info()"
   ]
  },
  {
   "cell_type": "code",
   "execution_count": 7,
   "id": "a7ca111e-7add-4699-ac4b-95077ccbf9dc",
   "metadata": {},
   "outputs": [
    {
     "data": {
      "text/plain": [
       "urun_kalitesi          0\n",
       "urun_fiyati            0\n",
       "reklam_harcamalari     0\n",
       "musteri_hizmetleri     0\n",
       "musteri_memnuniyeti    0\n",
       "dtype: int64"
      ]
     },
     "execution_count": 7,
     "metadata": {},
     "output_type": "execute_result"
    }
   ],
   "source": [
    "# eksik gözlem analizi\n",
    "data.isnull().sum()"
   ]
  },
  {
   "cell_type": "code",
   "execution_count": 9,
   "id": "82a2ec59-33e0-4454-8fb8-99ef89e0ff7a",
   "metadata": {},
   "outputs": [
    {
     "data": {
      "image/png": "[encoded data removed]",
      "text/plain": [
       "<Figure size 432x288 with 1 Axes>"
      ]
     },
     "metadata": {
      "needs_background": "light"
     },
     "output_type": "display_data"
    }
   ],
   "source": [
    "# aykırı gözlem analizi\n",
    "sns.boxplot(data=data[['urun_kalitesi', 'urun_fiyati', 'reklam_harcamalari', 'musteri_hizmetleri', 'musteri_memnuniyeti']]);"
   ]
  },
  {
   "cell_type": "markdown",
   "id": "9135e782-5297-4979-bf4f-c06325169110",
   "metadata": {},
   "source": [
    "#### görüldüğü üzere musteri_memnuniyeti isimli değişkende aykırı gözlem var. Hemen müdahale edelim."
   ]
  },
  {
   "cell_type": "code",
   "execution_count": 27,
   "id": "8aa401ed-b280-4b98-90de-4408abf40774",
   "metadata": {},
   "outputs": [
    {
     "name": "stderr",
     "output_type": "stream",
     "text": [
      "C:\\Users\\murat\\AppData\\Local\\Temp\\ipykernel_10432\\3812934011.py:11: SettingWithCopyWarning: \n",
      "A value is trying to be set on a copy of a slice from a DataFrame\n",
      "\n",
      "See the caveats in the documentation: https://pandas.pydata.org/pandas-docs/stable/user_guide/indexing.html#returning-a-view-versus-a-copy\n",
      "  data['musteri_memnuniyeti'][low.index] = alt_sinir\n",
      "C:\\Users\\murat\\AppData\\Local\\Temp\\ipykernel_10432\\3812934011.py:14: SettingWithCopyWarning: \n",
      "A value is trying to be set on a copy of a slice from a DataFrame\n",
      "\n",
      "See the caveats in the documentation: https://pandas.pydata.org/pandas-docs/stable/user_guide/indexing.html#returning-a-view-versus-a-copy\n",
      "  data['musteri_memnuniyeti'][high.index] = ust_sinir\n"
     ]
    }
   ],
   "source": [
    "df_table = data['musteri_memnuniyeti']\n",
    "\n",
    "Q1 = df_table.quantile(0.25)\n",
    "Q3 = df_table.quantile(0.75)\n",
    "IQR = Q3 - Q1\n",
    "\n",
    "alt_sinir = Q1 - 1.5 * IQR\n",
    "ust_sinir = Q3 + 1.5 * IQR\n",
    "\n",
    "low = df_table[df_table < alt_sinir]\n",
    "data['musteri_memnuniyeti'][low.index] = alt_sinir\n",
    "\n",
    "high = df_table[df_table > ust_sinir]\n",
    "data['musteri_memnuniyeti'][high.index] = ust_sinir"
   ]
  },
  {
   "cell_type": "code",
   "execution_count": 29,
   "id": "d8293c86-4709-4efd-b95e-70c3f81ac69e",
   "metadata": {},
   "outputs": [
    {
     "data": {
      "image/png": "[encoded data removed]",
      "text/plain": [
       "<Figure size 432x288 with 1 Axes>"
      ]
     },
     "metadata": {
      "needs_background": "light"
     },
     "output_type": "display_data"
    }
   ],
   "source": [
    "sns.boxplot(data=data, x='musteri_memnuniyeti');"
   ]
  },
  {
   "cell_type": "markdown",
   "id": "70ff1baa-d888-4a5d-9613-64e764eec5ef",
   "metadata": {},
   "source": [
    "# İstatiksel Analiz"
   ]
  },
  {
   "cell_type": "markdown",
   "id": "4989dcec-e15a-475a-9d86-502e7e96cfa9",
   "metadata": {},
   "source": [
    "#### Şimdi ise, değişkenler arasındaki ilişkinin istatistiksel olarak anlamlı olup olmadığını kontrol edelim."
   ]
  },
  {
   "cell_type": "code",
   "execution_count": 31,
   "id": "63d33d6b-9222-45b4-9a9c-b7a602ea1134",
   "metadata": {},
   "outputs": [],
   "source": [
    "# bağımlı ve bağımsız değişkenlerimi oluşturalım.\n",
    "\n",
    "X = data[['urun_kalitesi', 'urun_fiyati', 'reklam_harcamalari', 'musteri_hizmetleri']]\n",
    "y = data['musteri_memnuniyeti']"
   ]
  },
  {
   "cell_type": "code",
   "execution_count": 32,
   "id": "8bd1dee4-6d72-499a-a2b3-720fcec125d3",
   "metadata": {},
   "outputs": [
    {
     "data": {
      "text/html": [
       "<table class=\"simpletable\">\n",
       "<caption>OLS Regression Results</caption>\n",
       "<tr>\n",
       "  <th>Dep. Variable:</th>    <td>musteri_memnuniyeti</td> <th>  R-squared (uncentered):</th>      <td>   0.970</td>\n",
       "</tr>\n",
       "<tr>\n",
       "  <th>Model:</th>                    <td>OLS</td>         <th>  Adj. R-squared (uncentered):</th> <td>   0.970</td>\n",
       "</tr>\n",
       "<tr>\n",
       "  <th>Method:</th>              <td>Least Squares</td>    <th>  F-statistic:       </th>          <td>   8188.</td>\n",
       "</tr>\n",
       "<tr>\n",
       "  <th>Date:</th>              <td>Fri, 24 Mar 2023</td>   <th>  Prob (F-statistic):</th>           <td>  0.00</td> \n",
       "</tr>\n",
       "<tr>\n",
       "  <th>Time:</th>                  <td>18:19:17</td>       <th>  Log-Likelihood:    </th>          <td> -1403.3</td>\n",
       "</tr>\n",
       "<tr>\n",
       "  <th>No. Observations:</th>       <td>  1000</td>        <th>  AIC:               </th>          <td>   2815.</td>\n",
       "</tr>\n",
       "<tr>\n",
       "  <th>Df Residuals:</th>           <td>   996</td>        <th>  BIC:               </th>          <td>   2834.</td>\n",
       "</tr>\n",
       "<tr>\n",
       "  <th>Df Model:</th>               <td>     4</td>        <th>                     </th>              <td> </td>   \n",
       "</tr>\n",
       "<tr>\n",
       "  <th>Covariance Type:</th>       <td>nonrobust</td>      <th>                     </th>              <td> </td>   \n",
       "</tr>\n",
       "</table>\n",
       "<table class=\"simpletable\">\n",
       "<tr>\n",
       "           <td></td>             <th>coef</th>     <th>std err</th>      <th>t</th>      <th>P>|t|</th>  <th>[0.025</th>    <th>0.975]</th>  \n",
       "</tr>\n",
       "<tr>\n",
       "  <th>urun_kalitesi</th>      <td>    0.2913</td> <td>    0.009</td> <td>   31.178</td> <td> 0.000</td> <td>    0.273</td> <td>    0.310</td>\n",
       "</tr>\n",
       "<tr>\n",
       "  <th>urun_fiyati</th>        <td>    0.2143</td> <td>    0.009</td> <td>   22.874</td> <td> 0.000</td> <td>    0.196</td> <td>    0.233</td>\n",
       "</tr>\n",
       "<tr>\n",
       "  <th>reklam_harcamalari</th> <td>    0.3070</td> <td>    0.010</td> <td>   31.889</td> <td> 0.000</td> <td>    0.288</td> <td>    0.326</td>\n",
       "</tr>\n",
       "<tr>\n",
       "  <th>musteri_hizmetleri</th> <td>    0.1889</td> <td>    0.009</td> <td>   19.973</td> <td> 0.000</td> <td>    0.170</td> <td>    0.207</td>\n",
       "</tr>\n",
       "</table>\n",
       "<table class=\"simpletable\">\n",
       "<tr>\n",
       "  <th>Omnibus:</th>       <td> 1.844</td> <th>  Durbin-Watson:     </th> <td>   1.968</td>\n",
       "</tr>\n",
       "<tr>\n",
       "  <th>Prob(Omnibus):</th> <td> 0.398</td> <th>  Jarque-Bera (JB):  </th> <td>   1.851</td>\n",
       "</tr>\n",
       "<tr>\n",
       "  <th>Skew:</th>          <td>-0.066</td> <th>  Prob(JB):          </th> <td>   0.396</td>\n",
       "</tr>\n",
       "<tr>\n",
       "  <th>Kurtosis:</th>      <td> 2.835</td> <th>  Cond. No.          </th> <td>    4.02</td>\n",
       "</tr>\n",
       "</table><br/><br/>Notes:<br/>[1] R² is computed without centering (uncentered) since the model does not contain a constant.<br/>[2] Standard Errors assume that the covariance matrix of the errors is correctly specified."
      ],
      "text/plain": [
       "<class 'statsmodels.iolib.summary.Summary'>\n",
       "\"\"\"\n",
       "                                 OLS Regression Results                                 \n",
       "========================================================================================\n",
       "Dep. Variable:     musteri_memnuniyeti   R-squared (uncentered):                   0.970\n",
       "Model:                             OLS   Adj. R-squared (uncentered):              0.970\n",
       "Method:                  Least Squares   F-statistic:                              8188.\n",
       "Date:                 Fri, 24 Mar 2023   Prob (F-statistic):                        0.00\n",
       "Time:                         18:19:17   Log-Likelihood:                         -1403.3\n",
       "No. Observations:                 1000   AIC:                                      2815.\n",
       "Df Residuals:                      996   BIC:                                      2834.\n",
       "Df Model:                            4                                                  \n",
       "Covariance Type:             nonrobust                                                  \n",
       "======================================================================================\n",
       "                         coef    std err          t      P>|t|      [0.025      0.975]\n",
       "--------------------------------------------------------------------------------------\n",
       "urun_kalitesi          0.2913      0.009     31.178      0.000       0.273       0.310\n",
       "urun_fiyati            0.2143      0.009     22.874      0.000       0.196       0.233\n",
       "reklam_harcamalari     0.3070      0.010     31.889      0.000       0.288       0.326\n",
       "musteri_hizmetleri     0.1889      0.009     19.973      0.000       0.170       0.207\n",
       "==============================================================================\n",
       "Omnibus:                        1.844   Durbin-Watson:                   1.968\n",
       "Prob(Omnibus):                  0.398   Jarque-Bera (JB):                1.851\n",
       "Skew:                          -0.066   Prob(JB):                        0.396\n",
       "Kurtosis:                       2.835   Cond. No.                         4.02\n",
       "==============================================================================\n",
       "\n",
       "Notes:\n",
       "[1] R² is computed without centering (uncentered) since the model does not contain a constant.\n",
       "[2] Standard Errors assume that the covariance matrix of the errors is correctly specified.\n",
       "\"\"\""
      ]
     },
     "execution_count": 32,
     "metadata": {},
     "output_type": "execute_result"
    }
   ],
   "source": [
    "# İstatistiksel analiz modelimizi oluşturalım ve eğitelim.\n",
    "\n",
    "model = sm.OLS(y, X).fit()\n",
    "model.summary()"
   ]
  },
  {
   "cell_type": "markdown",
   "id": "a974c33c-b1f8-4486-8562-e57b24d2a29a",
   "metadata": {},
   "source": [
    "#### Bu özet, modelin performansını özetler. R-kare, bağımsız değişkenlerin ne kadarının bağımlı değişkenin varyansını açıkladığını gösteren bir ölçüdür ve bu örnekte 0.97 'dir. Ayrıca F istatistiği, modelin anlamlılığını ölçer ve p değeri 0.00 'dır. Bu, p_value değerinin istatistiksel üst sınır olan 0.05 'den küçük olduğu anlamına gelir ve bu modelin bağımsız değişkenleri açıklama konusunda anlamlı olduğunu gösterir."
   ]
  },
  {
   "cell_type": "markdown",
   "id": "432edce5-5b9b-4f76-a63e-b5ab816779ed",
   "metadata": {},
   "source": [
    "# Model Oluşturma ve Değerlendirme"
   ]
  },
  {
   "cell_type": "code",
   "execution_count": 40,
   "id": "0232b8c7-c308-4138-8573-2f35e81623fb",
   "metadata": {},
   "outputs": [],
   "source": [
    "# eğitim ve test setlerini ayırma\n",
    "X_train, X_test, y_train, y_test = train_test_split(X, y, test_size=0.2, random_state=42)"
   ]
  },
  {
   "cell_type": "code",
   "execution_count": 41,
   "id": "b941ad91-e3dc-4a30-8d46-deb10773dbf3",
   "metadata": {},
   "outputs": [
    {
     "data": {
      "text/plain": [
       "LinearRegression()"
      ]
     },
     "execution_count": 41,
     "metadata": {},
     "output_type": "execute_result"
    }
   ],
   "source": [
    "# model oluşturma ve eğitme\n",
    "model = LinearRegression()\n",
    "model.fit(X_train, y_train)"
   ]
  },
  {
   "cell_type": "code",
   "execution_count": 42,
   "id": "8faf3f3e-177f-4488-8f4b-15fd0a4be832",
   "metadata": {},
   "outputs": [],
   "source": [
    "# tahmin\n",
    "y_pred = model.predict(X_test)"
   ]
  },
  {
   "cell_type": "code",
   "execution_count": 44,
   "id": "41dc494a-2968-478d-9acc-394c02d893a7",
   "metadata": {},
   "outputs": [
    {
     "name": "stdout",
     "output_type": "stream",
     "text": [
      "Ortalama Kare Hata (MSE): 1.01\n",
      "Belirleme Katsayısı (R2): 0.68\n"
     ]
    }
   ],
   "source": [
    "# model performansını değerlendirme\n",
    "print('Ortalama Kare Hata (MSE): %.2f' % mean_squared_error(y_test, y_pred))\n",
    "print('Belirleme Katsayısı (R2): %.2f' % r2_score(y_test, y_pred))"
   ]
  },
  {
   "cell_type": "markdown",
   "id": "30983e10-1d5e-4f8c-9498-fe9e9790387e",
   "metadata": {},
   "source": [
    "#### MSE değerinin çok iyi olduğunu ve R-kare değerinin model tuning işlemleri ile daha iyi olabileceğini görüyoruz."
   ]
  },
  {
   "cell_type": "markdown",
   "id": "a841ef72-e8d1-431b-b85b-c4a57b49870a",
   "metadata": {},
   "source": [
    "# Model Tuning İşlemi"
   ]
  },
  {
   "cell_type": "code",
   "execution_count": 45,
   "id": "f455e8e3-34ef-4382-9091-fe8be83edce3",
   "metadata": {},
   "outputs": [
    {
     "name": "stdout",
     "output_type": "stream",
     "text": [
      "random_state=0 için R-kare değeri: 0.7073480907576479\n",
      "random_state=10 için R-kare değeri: 0.7226628646043468\n",
      "random_state=20 için R-kare değeri: 0.6698920903595651\n",
      "random_state=30 için R-kare değeri: 0.6515538016915294\n",
      "random_state=42 için R-kare değeri: 0.6799930812108839\n",
      "random_state=50 için R-kare değeri: 0.7465981775057091\n",
      "random_state=60 için R-kare değeri: 0.6594764273406808\n",
      "random_state=80 için R-kare değeri: 0.6618010800162568\n",
      "random_state=100 için R-kare değeri: 0.6792443241327735\n"
     ]
    }
   ],
   "source": [
    "# random_state için en iyi değeri bulma.\n",
    "\n",
    "random_states = [0, 10, 20, 30, 42, 50, 60, 80, 100]\n",
    "\n",
    "for element in random_states:\n",
    "    X_train, X_test, y_train, y_test = train_test_split(X, y, test_size=0.2, random_state=element)\n",
    "    model = LinearRegression().fit(X_train, y_train)\n",
    "    y_pred = model.predict(X_test)\n",
    "    r2 = r2_score(y_test, y_pred)\n",
    "    print(f'random_state={element} için R-kare değeri: {r2}')"
   ]
  },
  {
   "cell_type": "markdown",
   "id": "392ea614-1c06-4b78-830e-f0cf4f4cd1e9",
   "metadata": {},
   "source": [
    "#### Görüldüğü üzere en iyi değeri random_state=50 değeri için aldık. Modelimizi güncelleyelim."
   ]
  },
  {
   "cell_type": "code",
   "execution_count": 49,
   "id": "f7c95d3d-37c3-4c18-a30f-708f848f2443",
   "metadata": {},
   "outputs": [
    {
     "name": "stdout",
     "output_type": "stream",
     "text": [
      "R-kare değeri:  0.747008490905483\n"
     ]
    }
   ],
   "source": [
    "X_train, X_test, y_train, y_test = train_test_split(X, y, test_size=0.2, random_state=50)\n",
    "model = LinearRegression(copy_X=True, fit_intercept=False).fit(X_train, y_train)\n",
    "y_pred = model.predict(X_test)\n",
    "r2 = r2_score(y_test, y_pred)\n",
    "print('R-kare değeri: ', r2)"
   ]
  },
  {
   "cell_type": "code",
   "execution_count": 50,
   "id": "14de2e3f-92db-40c9-a999-ebd195acc20c",
   "metadata": {},
   "outputs": [
    {
     "name": "stdout",
     "output_type": "stream",
     "text": [
      "En iyi parametreler:  {'copy_X': True, 'fit_intercept': False}\n"
     ]
    }
   ],
   "source": [
    "# hiperparametreler için en iyi değeri araştıralım.\n",
    "\n",
    "params = {'fit_intercept':[True, False], 'copy_X':[True, False]}\n",
    "grid_search = GridSearchCV(estimator=model, param_grid=params, cv=5)\n",
    "grid_search.fit(X_train, y_train)\n",
    "print('En iyi parametreler: ', grid_search.best_params_)"
   ]
  },
  {
   "cell_type": "markdown",
   "id": "f9856917-fe8c-4c21-a725-87be0094d9b9",
   "metadata": {},
   "source": [
    "#### Hiperparametreler için bulduğumuz en iyi değerleri yukarıda modeli oluşturduğumuz kısıma ekliyorum."
   ]
  },
  {
   "cell_type": "markdown",
   "id": "e85ad438-7f39-404c-be0b-e9aba077d25e",
   "metadata": {},
   "source": [
    "# Model Doğrulama"
   ]
  },
  {
   "cell_type": "code",
   "execution_count": 51,
   "id": "cd469164-b187-4c3e-a5c2-8cc6da8edb0b",
   "metadata": {},
   "outputs": [
    {
     "name": "stdout",
     "output_type": "stream",
     "text": [
      "Doğrulama Skorları:  [0.62528348 0.70595366 0.66222848 0.67386604 0.6089414 ]\n",
      "Ortalama Doğrulama Skorları:  0.6552546136324203\n"
     ]
    }
   ],
   "source": [
    "scores = cross_val_score(grid_search, X_train, y_train, cv=5)\n",
    "print('Doğrulama Skorları: ', scores)\n",
    "print('Ortalama Doğrulama Skorları: ', scores.mean())"
   ]
  },
  {
   "cell_type": "markdown",
   "id": "048245f1-8190-49a4-a560-e36e884e47ea",
   "metadata": {},
   "source": [
    "# Tahmin"
   ]
  },
  {
   "cell_type": "code",
   "execution_count": 53,
   "id": "7729bfaf-725b-4301-8d6f-9f2f0da0f963",
   "metadata": {},
   "outputs": [
    {
     "data": {
      "text/html": [
       "<div>\n",
       "<style scoped>\n",
       "    .dataframe tbody tr th:only-of-type {\n",
       "        vertical-align: middle;\n",
       "    }\n",
       "\n",
       "    .dataframe tbody tr th {\n",
       "        vertical-align: top;\n",
       "    }\n",
       "\n",
       "    .dataframe thead th {\n",
       "        text-align: right;\n",
       "    }\n",
       "</style>\n",
       "<table border=\"1\" class=\"dataframe\">\n",
       "  <thead>\n",
       "    <tr style=\"text-align: right;\">\n",
       "      <th></th>\n",
       "      <th>urun_kalitesi</th>\n",
       "      <th>urun_fiyati</th>\n",
       "      <th>reklam_harcamalari</th>\n",
       "      <th>musteri_hizmetleri</th>\n",
       "      <th>musteri_memnuniyeti</th>\n",
       "    </tr>\n",
       "  </thead>\n",
       "  <tbody>\n",
       "    <tr>\n",
       "      <th>0</th>\n",
       "      <td>7</td>\n",
       "      <td>1</td>\n",
       "      <td>10</td>\n",
       "      <td>8</td>\n",
       "      <td>5.746376</td>\n",
       "    </tr>\n",
       "    <tr>\n",
       "      <th>1</th>\n",
       "      <td>4</td>\n",
       "      <td>8</td>\n",
       "      <td>6</td>\n",
       "      <td>9</td>\n",
       "      <td>6.513624</td>\n",
       "    </tr>\n",
       "    <tr>\n",
       "      <th>2</th>\n",
       "      <td>8</td>\n",
       "      <td>4</td>\n",
       "      <td>7</td>\n",
       "      <td>6</td>\n",
       "      <td>6.103564</td>\n",
       "    </tr>\n",
       "    <tr>\n",
       "      <th>3</th>\n",
       "      <td>5</td>\n",
       "      <td>4</td>\n",
       "      <td>9</td>\n",
       "      <td>5</td>\n",
       "      <td>7.396628</td>\n",
       "    </tr>\n",
       "    <tr>\n",
       "      <th>4</th>\n",
       "      <td>7</td>\n",
       "      <td>5</td>\n",
       "      <td>1</td>\n",
       "      <td>6</td>\n",
       "      <td>6.099034</td>\n",
       "    </tr>\n",
       "  </tbody>\n",
       "</table>\n",
       "</div>"
      ],
      "text/plain": [
       "   urun_kalitesi  urun_fiyati  reklam_harcamalari  musteri_hizmetleri  \\\n",
       "0              7            1                  10                   8   \n",
       "1              4            8                   6                   9   \n",
       "2              8            4                   7                   6   \n",
       "3              5            4                   9                   5   \n",
       "4              7            5                   1                   6   \n",
       "\n",
       "   musteri_memnuniyeti  \n",
       "0             5.746376  \n",
       "1             6.513624  \n",
       "2             6.103564  \n",
       "3             7.396628  \n",
       "4             6.099034  "
      ]
     },
     "execution_count": 53,
     "metadata": {},
     "output_type": "execute_result"
    }
   ],
   "source": [
    "data.head()"
   ]
  },
  {
   "cell_type": "code",
   "execution_count": 59,
   "id": "4d559713-3678-45e4-ac66-50a999826282",
   "metadata": {},
   "outputs": [
    {
     "name": "stdin",
     "output_type": "stream",
     "text": [
      "Lütfen Ürün Kalitesini Puanlayınız (1-10):  10\n",
      "Lütfen Ürün Fiyatını Puanlayınız (1-10):  10\n",
      "Lütfen Reklam Harcamalarını Puanlayınız (1-10):  10\n",
      "Lütfen Müşteri Hizmetleri servisimizi puanlayınız (1-10):  10\n"
     ]
    },
    {
     "name": "stdout",
     "output_type": "stream",
     "text": [
      "-------------------------------------------------------------\n",
      "Tahmini Müşteri Memnuniyeti Fiyatı: 9.99866728954704\n"
     ]
    },
    {
     "name": "stderr",
     "output_type": "stream",
     "text": [
      "C:\\Users\\murat\\anaconda3\\lib\\site-packages\\sklearn\\base.py:450: UserWarning: X does not have valid feature names, but LinearRegression was fitted with feature names\n",
      "  warnings.warn(\n"
     ]
    }
   ],
   "source": [
    "urun_kalitesi = input('Lütfen Ürün Kalitesini Puanlayınız (1-10): ')\n",
    "urun_fiyati = input('Lütfen Ürün Fiyatını Puanlayınız (1-10): ')\n",
    "reklam_harcamalari = input('Lütfen Reklam Harcamalarını Puanlayınız (1-10): ')\n",
    "musteri_hizmetleri = input('Lütfen Müşteri Hizmetleri servisimizi puanlayınız (1-10): ')\n",
    "\n",
    "predict = model.predict([[int(urun_kalitesi), int(urun_fiyati), int(reklam_harcamalari), int(musteri_hizmetleri)]])\n",
    "print('-------------------------------------------------------------')\n",
    "print(f'Tahmini Müşteri Memnuniyeti Fiyatı: {float(predict)}')"
   ]
  }
 ],
 "metadata": {
  "kernelspec": {
   "display_name": "Python 3 (ipykernel)",
   "language": "python",
   "name": "python3"
  },
  "language_info": {
   "codemirror_mode": {
    "name": "ipython",
    "version": 3
   },
   "file_extension": ".py",
   "mimetype": "text/x-python",
   "name": "python",
   "nbconvert_exporter": "python",
   "pygments_lexer": "ipython3",
   "version": "3.9.12"
  }
 },
 "nbformat": 4,
 "nbformat_minor": 5
}
